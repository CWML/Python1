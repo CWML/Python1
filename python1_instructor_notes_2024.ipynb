{
 "cells": [
  {
   "cell_type": "markdown",
   "id": "155005a5",
   "metadata": {},
   "source": []
  },
  {
   "cell_type": "markdown",
   "id": "5830fa49",
   "metadata": {},
   "source": [
    "## Instructor Notes\n",
    "\n",
    "Python 1 for Data Analysis:\n",
    "\n",
    "- 15 minutes - intro, activity, Jupyter notebook overview\n",
    "- 15 minutes — variables, data types, errors\n",
    "- 30 minutes — lists, if-else, loops\n",
    "- 1 hour — intro to the data/scenario, using libraries, bringing in data, basic data analysis and viz "
   ]
  },
  {
   "cell_type": "markdown",
   "id": "1d8d363e",
   "metadata": {},
   "source": [
    "## **Jupyter notebook overview**\n",
    "\n",
    "\n",
    "* **Let’s explore the Jupyter Notebook interface**  \n",
    "   When you open a notebook, you’ll see a toolbar at the top and a blank canvas below.\n",
    "\n",
    "   Here’s what the key components are:\n",
    "   - The **menu bar** at the top has options like File, Edit, and View for managing the notebook.\n",
    "   - Below that, the **toolbar** has icons for saving, running cells, adding new cells, etc.\n",
    "   - The **main workspace** is divided into cells. Cells are where you write code or text.\n",
    "\n",
    "* **Running Code in Cells**  \n",
    "   - Jupyter is built to run code in blocks called cells. Let’s write and execute some Python code.\n",
    "\n",
    "* **Run the cell(code below):**\n",
    "   To run a cell, either click the 'Run' button in the toolbar or press Shift + Enter."
   ]
  },
  {
   "cell_type": "code",
   "execution_count": null,
   "id": "07a7d597",
   "metadata": {},
   "outputs": [],
   "source": [
    "print(\"Hello, World!\")"
   ]
  },
  {
   "cell_type": "markdown",
   "id": "80decb74",
   "metadata": {},
   "source": [
    "* **Adding New Cells and Cell Types**  \n",
    "   * Let’s add more cells. Click the ‘+’ button on the toolbar to insert a new cell below.  \n",
    "   * Cells can be either **Code** cells or **Markdown** cells.\n",
    "   * Markdown is perfect for adding explanations, titles, or instructions in your notebook."
   ]
  },
  {
   "cell_type": "markdown",
   "id": "4cdc7e91",
   "metadata": {},
   "source": [
    "## This is a Markdown cell  \n",
    "- You can write text here using markdown **syntax.**  "
   ]
  },
  {
   "cell_type": "markdown",
   "id": "18a691e4",
   "metadata": {},
   "source": [
    "- **Navigating Cells**\n",
    "   - In each cell we can see options as well\n",
    "      - AI assistant\n",
    "      - Create code snippet code.py\n",
    "      - Duplicate cell\n",
    "      - Move cell up or down\n",
    "      - Insert cell up or down\n",
    "      - Delete cell \n",
    "\n",
    "- **Saving and Restarting the Kernel**  \n",
    "   - Jupyter saves your work automatically, but you can manually save by clicking the disk icon.  \n",
    "   - If your code gets stuck or you want to restart, go to Kernel > Restart & Clear Output.  \n",
    "   This stops all running code and clears the outputs, but your written code remains.\n",
    "\n",
    "\n",
    "- **Exporting Notebooks**  \n",
    "   - You can export your notebook to share with others.  \n",
    "   Go to File > Download as > HTML or PDF. This makes it easy to distribute your work."
   ]
  },
  {
   "cell_type": "markdown",
   "id": "9e1bb312",
   "metadata": {},
   "source": [
    "## **Python print statement**\n",
    "\n",
    "   **What is print?**\n",
    "   \n",
    "   - print is a built-in function in Python.\n",
    "   - Its purpose is to display output on the screen (or console).\n",
    "   - It is often used for debugging or to show the result of calculations, messages, or any kind of information.\n",
    "\n",
    "   **What is it doing?**\n",
    "\n",
    "   - In this case, print is being used to print a string.\n",
    "   - A string is a sequence of characters enclosed in quotes (\"\" or '').\n",
    "   - Here, the string \"Hello, World!\" is passed as an argument to the print function, so the function outputs   that exact text to the console.\n"
   ]
  },
  {
   "cell_type": "code",
   "execution_count": null,
   "id": "067e9002",
   "metadata": {},
   "outputs": [],
   "source": [
    "\n",
    "print(\"Hello, World!\")"
   ]
  },
  {
   "cell_type": "markdown",
   "id": "e41b1a7e",
   "metadata": {},
   "source": [
    "**Jupyter notebook help system**\n",
    "\n",
    "- When you type **print?** in juptyer notebook it invokes the **help system** for the print function.\n",
    "- This displays a quick summary of what the print function does, including its arguments and usage."
   ]
  },
  {
   "cell_type": "code",
   "execution_count": null,
   "id": "e8ffa9f2-1c5d-4ccd-832e-f77ad698a8ee",
   "metadata": {},
   "outputs": [],
   "source": [
    "print?"
   ]
  },
  {
   "cell_type": "markdown",
   "id": "b23484e2",
   "metadata": {},
   "source": [
    "**You can also use the built in function `help()` in python**"
   ]
  },
  {
   "cell_type": "code",
   "execution_count": null,
   "id": "1b09afdb",
   "metadata": {},
   "outputs": [],
   "source": [
    "\n",
    "help(print)\n"
   ]
  },
  {
   "cell_type": "markdown",
   "id": "a04178b1",
   "metadata": {},
   "source": [
    "**Comments**"
   ]
  },
  {
   "cell_type": "code",
   "execution_count": null,
   "id": "9619f3ad-fe9e-4902-bc60-1a0009cd749e",
   "metadata": {},
   "outputs": [],
   "source": [
    "#comments\n",
    "##are important and should be used to describe steps in a python script or program\n",
    "###you may not remember exactly what you did in your code when you look back on it in 6 months\n",
    "print(\"Comments keep can keep your code organized while not displaying the comment text in any output.\")"
   ]
  },
  {
   "cell_type": "markdown",
   "id": "a6210bf7",
   "metadata": {},
   "source": [
    "## Defining variables\n",
    "\n",
    "- **What is Variable Assignment?**  \n",
    "  - Variable assignment in programming refers to storing a value in a named container, called a variable, for later use.  \n",
    "  - In Python:\n",
    "    - Assignment is done using the `=` operator.  \n",
    "    - The variable name is placed on the **left**.  \n",
    "    - The value to be stored is placed on the **right**.  \n",
    "\n",
    "    \n",
    "\n",
    "Let's define two variables, `x` and `y`, in the code cell below."
   ]
  },
  {
   "cell_type": "code",
   "execution_count": 280,
   "id": "24553462",
   "metadata": {},
   "outputs": [],
   "source": [
    "x = 3\n",
    "y = 7"
   ]
  },
  {
   "cell_type": "code",
   "execution_count": 281,
   "id": "52fa8fd2",
   "metadata": {},
   "outputs": [
    {
     "name": "stdout",
     "output_type": "stream",
     "text": [
      "3\n"
     ]
    }
   ],
   "source": [
    "print(x)"
   ]
  },
  {
   "cell_type": "code",
   "execution_count": 282,
   "id": "5796f113",
   "metadata": {},
   "outputs": [
    {
     "name": "stdout",
     "output_type": "stream",
     "text": [
      "7\n"
     ]
    }
   ],
   "source": [
    "print(y)"
   ]
  },
  {
   "cell_type": "code",
   "execution_count": 283,
   "id": "527442cd",
   "metadata": {},
   "outputs": [
    {
     "name": "stdout",
     "output_type": "stream",
     "text": [
      "10\n"
     ]
    }
   ],
   "source": [
    "print(x+y)"
   ]
  },
  {
   "cell_type": "markdown",
   "id": "767926b2",
   "metadata": {},
   "source": [
    "**Variables can also contain strings and be recognizable words**  "
   ]
  },
  {
   "cell_type": "code",
   "execution_count": 284,
   "id": "d0984d82",
   "metadata": {},
   "outputs": [
    {
     "name": "stdout",
     "output_type": "stream",
     "text": [
      "Hello, CWML Training Participants!\n"
     ]
    }
   ],
   "source": [
    "greeting = \"Hello, CWML Training Participants!\"\n",
    "print(greeting)\n"
   ]
  },
  {
   "cell_type": "markdown",
   "id": "0b919973",
   "metadata": {},
   "source": [
    "**We can change our variable at any time and we can also check our variable type**\n",
    "- The type() function is a built-in Python function that returns the data type of the object or variable passed to it.\n",
    "- The print() function is used to display the result of type(greeting) on the screen."
   ]
  },
  {
   "cell_type": "code",
   "execution_count": 285,
   "id": "f5e8aa5d",
   "metadata": {},
   "outputs": [
    {
     "name": "stdout",
     "output_type": "stream",
     "text": [
      "4\n"
     ]
    },
    {
     "data": {
      "text/plain": [
       "int"
      ]
     },
     "execution_count": 285,
     "metadata": {},
     "output_type": "execute_result"
    }
   ],
   "source": [
    "greeting = 2 * 2\n",
    "print(greeting)\n",
    "type(greeting)"
   ]
  },
  {
   "cell_type": "code",
   "execution_count": 286,
   "id": "ff2fc398",
   "metadata": {},
   "outputs": [
    {
     "name": "stdout",
     "output_type": "stream",
     "text": [
      "hello\n",
      "<class 'str'>\n"
     ]
    }
   ],
   "source": [
    "greeting = \"hello\"\n",
    "print(greeting)\n",
    "print(type(greeting))"
   ]
  },
  {
   "cell_type": "markdown",
   "id": "cfe5c519",
   "metadata": {},
   "source": [
    "Jyputer notebook includes **magic commands** that allow us to **see** or **inspect** aspects of the variables/objects in the environment."
   ]
  },
  {
   "cell_type": "code",
   "execution_count": 287,
   "id": "6eef501c",
   "metadata": {},
   "outputs": [
    {
     "name": "stdout",
     "output_type": "stream",
     "text": [
      "Variable                Type         Data/Info\n",
      "----------------------------------------------\n",
      "ave_inflammation        ndarray      40: 40 elems, type `float64`, 320 bytes\n",
      "create_figures_by_day   function     <function create_figures_by_day at 0x13fa19a20>\n",
      "data                    ndarray      60x40: 2400 elems, type `float64`, 19200 bytes\n",
      "filename                str          inflammation-12.csv\n",
      "filenames               list         n=12\n",
      "glob                    module       <module 'glob' from '/Use<...>/lib/python3.10/glob.py'>\n",
      "greeting                str          hello\n",
      "heart_rate              int          75\n",
      "heart_rate_list         list         n=4\n",
      "image                   AxesImage    AxesImage(size=(60, 40))\n",
      "increase                int          35\n",
      "maxval                  float64      20.0\n",
      "minval                  float64      0.0\n",
      "np                      module       <module 'numpy' from '/Us<...>kages/numpy/__init__.py'>\n",
      "patient_0               ndarray      40: 40 elems, type `float64`, 320 bytes\n",
      "plt                     module       <module 'matplotlib.pyplo<...>es/matplotlib/pyplot.py'>\n",
      "rate                    int          105\n",
      "stdval                  float64      4.566311117545783\n",
      "x                       int          3\n",
      "y                       int          7\n",
      "z                       int          10\n"
     ]
    }
   ],
   "source": [
    "%whos"
   ]
  },
  {
   "cell_type": "markdown",
   "id": "3e1f5501",
   "metadata": {},
   "source": [
    "### **Data Types**\n",
    "- There are many data types in Python and the type dictates what operations we can do to an object.\n",
    "- Below are only two families of data types or **classes** in python:\n",
    "* **Numeric Types**  \n",
    "  * `int` - Integer numbers (e.g., 5, -10)  \n",
    "  * `float` - Floating-point numbers (e.g., 3.14, -0.001)  \n",
    "  * `complex` - Complex numbers (e.g., 1+2j)  \n",
    "\n",
    "* **Sequence Types**  \n",
    "  * `str` - Strings, sequences of characters (e.g., \"hello\")  \n",
    "  * `list` - Ordered, mutable collections (e.g., [1, 2, 3])  \n",
    "  * `tuple` - Ordered, immutable collections (e.g., (1, 2, 3))  "
   ]
  },
  {
   "cell_type": "markdown",
   "id": "4b3f7530",
   "metadata": {},
   "source": [
    "**It is possible to combine data types in a print statement**"
   ]
  },
  {
   "cell_type": "code",
   "execution_count": 288,
   "id": "547193f0",
   "metadata": {},
   "outputs": [
    {
     "name": "stdout",
     "output_type": "stream",
     "text": [
      "My heart rate: 75\n"
     ]
    }
   ],
   "source": [
    "\n",
    "heart_rate = 75\n",
    "print(\"My heart rate:\", heart_rate)"
   ]
  },
  {
   "cell_type": "markdown",
   "id": "ea68c275",
   "metadata": {},
   "source": [
    "**Let's check our variable type**"
   ]
  },
  {
   "cell_type": "code",
   "execution_count": 289,
   "id": "6914e3d1",
   "metadata": {},
   "outputs": [
    {
     "name": "stdout",
     "output_type": "stream",
     "text": [
      "<class 'int'>\n"
     ]
    }
   ],
   "source": [
    "print(type(heart_rate))"
   ]
  },
  {
   "cell_type": "markdown",
   "id": "ea940906",
   "metadata": {},
   "source": [
    "**We can also add  variables together**"
   ]
  },
  {
   "cell_type": "code",
   "execution_count": 290,
   "id": "15f4668f",
   "metadata": {},
   "outputs": [
    {
     "name": "stdout",
     "output_type": "stream",
     "text": [
      "110\n"
     ]
    }
   ],
   "source": [
    "increase = 35\n",
    "\n",
    "print(heart_rate + increase)"
   ]
  },
  {
   "cell_type": "markdown",
   "id": "07a973e5",
   "metadata": {},
   "source": [
    "**So far, we've just stored basic things in our variables like a brief text string or a single number.**\n",
    "\n",
    "**With lists, we can store lots of information**  \n",
    "  - In Python, a list is a collection of:\n",
    "    - Ordered elements.  \n",
    "    - Mutable (changeable) elements.  \n",
    "    - Items that can be of any data type (e.g., numbers, strings, or even other lists).  \n",
    "\n",
    "**Key Characteristics of Lists**  \n",
    "  - Lists are defined using square brackets `[]`.  \n",
    "  - Elements in a list are separated by commas.  \n",
    "  - Example: `[1, \"hello\", [2, 3]]` is a list containing a number, a string, and another list.  \n"
   ]
  },
  {
   "cell_type": "code",
   "execution_count": 291,
   "id": "f44004e1",
   "metadata": {},
   "outputs": [
    {
     "name": "stdout",
     "output_type": "stream",
     "text": [
      "[34, 56, 77, 99, 105]\n"
     ]
    }
   ],
   "source": [
    "heart_rate_list = [34, 56, 77, 99, 105]\n",
    "\n",
    "print(heart_rate_list)"
   ]
  },
  {
   "cell_type": "markdown",
   "id": "a6ed7d62",
   "metadata": {},
   "source": [
    "# Indexing Lists in Python\n",
    "\n",
    "- **Indexing is an important Python concept**  \n",
    "  - Lists can be **indexed** to access specific elements.  \n",
    "  - Indexing starts at `0` for the first element, `1` for the second, and so on.  \n",
    "\n",
    "- **Negative Indexing**  \n",
    "  - You can use **negative indexing** to access elements from the end of the list.  \n",
    "  - `-1` represents the **last element**.  \n",
    "  - `-2` represents the **second-to-last element**, and so on.  \n"
   ]
  },
  {
   "cell_type": "code",
   "execution_count": 292,
   "id": "956791f7",
   "metadata": {},
   "outputs": [
    {
     "name": "stdout",
     "output_type": "stream",
     "text": [
      "56\n",
      "105\n"
     ]
    }
   ],
   "source": [
    "print(heart_rate_list[1])\n",
    "print(heart_rate_list[-1])"
   ]
  },
  {
   "cell_type": "markdown",
   "id": "0c1f37d2",
   "metadata": {},
   "source": [
    "**So we can see that we didn't get our initial number because Python indexes from 0.**"
   ]
  },
  {
   "cell_type": "code",
   "execution_count": 293,
   "id": "9582b40d",
   "metadata": {},
   "outputs": [
    {
     "name": "stdout",
     "output_type": "stream",
     "text": [
      "34\n"
     ]
    }
   ],
   "source": [
    "print(heart_rate_list[0])"
   ]
  },
  {
   "cell_type": "markdown",
   "id": "15e6311f",
   "metadata": {},
   "source": [
    "**In Python, slicing allows you to extract a portion of a list using a range of indices.**  \n",
    "  - Slicing is **endpoint exclusive**, meaning it includes the starting index but excludes the ending index.  \n",
    "  - For example, `my_list[1:4]` will return elements at indices 1, 2, and 3, but not 4.  \n",
    "  - This feature is a powerful way to work with subsets of a list.  "
   ]
  },
  {
   "cell_type": "code",
   "execution_count": 294,
   "id": "edc79cb0",
   "metadata": {},
   "outputs": [
    {
     "name": "stdout",
     "output_type": "stream",
     "text": [
      "[56, 77, 99]\n",
      "[34, 56, 77, 99, 105]\n"
     ]
    }
   ],
   "source": [
    "print(heart_rate_list[1:4])\n",
    "print(heart_rate_list)"
   ]
  },
  {
   "cell_type": "markdown",
   "id": "23669765",
   "metadata": {},
   "source": [
    " **Lists are changeable**, meaning we can add or remove items from lists.  \n",
    "\n",
    "- While we’re only going to explore this briefly, know that it represents much more complex functionality found in Python libraries devoted to dealing with data.  \n",
    "\n",
    "**Add to a list with `append`**  \n"
   ]
  },
  {
   "cell_type": "code",
   "execution_count": 295,
   "id": "2a0efae7",
   "metadata": {},
   "outputs": [],
   "source": [
    "heart_rate_list.append(69)"
   ]
  },
  {
   "cell_type": "markdown",
   "id": "ab7fe0ff",
   "metadata": {},
   "source": [
    "We still need to ask python to `print` output if we want to see it."
   ]
  },
  {
   "cell_type": "code",
   "execution_count": 296,
   "id": "feccb355",
   "metadata": {},
   "outputs": [
    {
     "name": "stdout",
     "output_type": "stream",
     "text": [
      "[34, 56, 77, 99, 105, 69]\n"
     ]
    }
   ],
   "source": [
    "print(heart_rate_list)"
   ]
  },
  {
   "cell_type": "markdown",
   "id": "93ce9f64",
   "metadata": {},
   "source": [
    "**We can remove a specific item from a list using `.pop`.**  \n",
    "\n",
    "- The `.pop()` method in Python is called a **list method**, or more specifically, a **mutator method**, as it modifies the list by removing an element.  \n",
    "\n",
    "- It is part of Python's built-in list operations and is used to:  \n",
    "  - Remove an element at a specified index.  \n",
    "  - Remove the last element by default if no index is provided.  \n",
    "  - Return the removed value.  \n"
   ]
  },
  {
   "cell_type": "code",
   "execution_count": 297,
   "id": "3b1147a2",
   "metadata": {},
   "outputs": [
    {
     "data": {
      "text/plain": [
       "56"
      ]
     },
     "execution_count": 297,
     "metadata": {},
     "output_type": "execute_result"
    }
   ],
   "source": [
    "heart_rate_list.pop(1)"
   ]
  },
  {
   "cell_type": "code",
   "execution_count": 298,
   "id": "26ee2bc2",
   "metadata": {},
   "outputs": [
    {
     "name": "stdout",
     "output_type": "stream",
     "text": [
      "[34, 77, 99, 105, 69]\n"
     ]
    }
   ],
   "source": [
    "print(heart_rate_list)"
   ]
  },
  {
   "cell_type": "markdown",
   "id": "395d1d5d",
   "metadata": {},
   "source": [
    "**For loops allow you to repeatedly execute a block of code for a sequence of items.**  \n",
    "  - The `for` loop is used to iterate over elements in an iterable, such as a list, tuple, or string.  \n",
    "\n",
    "\n",
    "- The loop iterates through each element in the `heart_rate_list`.  \n",
    "- The variable `rate` takes the value of each element in the list during each iteration.  \n",
    "- The `print(rate)` statement outputs each rate to the console.  \n",
    "- This structure is useful for performing actions on each item in a collection without needing to manually manage an index.  \n",
    "\n"
   ]
  },
  {
   "cell_type": "code",
   "execution_count": 299,
   "id": "e45b3f71",
   "metadata": {},
   "outputs": [
    {
     "name": "stdout",
     "output_type": "stream",
     "text": [
      "34\n",
      "77\n",
      "99\n",
      "105\n",
      "69\n"
     ]
    }
   ],
   "source": [
    "\n",
    "for rate in heart_rate_list:\n",
    "    print(rate)  "
   ]
  },
  {
   "cell_type": "markdown",
   "id": "f5d97568",
   "metadata": {},
   "source": [
    "**For loops are especially powerful when combined with conditional logic, such as if-else statements.**  \n",
    "\n",
    "**If-else statements** allow you to control the flow of your program by executing different blocks of code based on conditions.  \n",
    "  - The `if` block runs when the specified condition evaluates to `True`.  \n",
    "  - If the condition is `False`, the `else` block runs instead.  \n",
    "  - You can also use `elif` for handling multiple conditions.  \n"
   ]
  },
  {
   "cell_type": "code",
   "execution_count": 300,
   "id": "64873faf",
   "metadata": {},
   "outputs": [
    {
     "name": "stdout",
     "output_type": "stream",
     "text": [
      "34 too low\n",
      "77 in appropriate range\n",
      "99 in appropriate range\n",
      "105 too high\n",
      "69 in appropriate range\n"
     ]
    }
   ],
   "source": [
    "for rate in heart_rate_list:\n",
    "    if rate > 100:\n",
    "        print(rate, \"too high\")\n",
    "    elif rate < 60:\n",
    "        print(rate, \"too low\")\n",
    "    else:\n",
    "        print(rate, \"in appropriate range\")"
   ]
  },
  {
   "cell_type": "markdown",
   "id": "3bbc2401",
   "metadata": {},
   "source": [
    "### Back to slides for a few moments\n",
    "\n",
    "When we come back, talk about markdown"
   ]
  },
  {
   "cell_type": "markdown",
   "id": "69b09398",
   "metadata": {},
   "source": [
    "# Markdown  \n",
    "- Markdown is a lightweight and easy-to-use syntax for adding documentation directly into Jupyter Notebooks.\n",
    "- It allows you to create formatted text, including headings, lists, links, and bold or italicized text.\n",
    "- Markdown improves readability and organization by separating explanatory text from code.\n",
    "- Using Markdown helps explain the purpose of your code and provides context for the results.\n",
    "- Well-documented notebooks are easier for collaborators to understand, even without prior knowledge of the project.\n",
    "- Good documentation also makes it easier for you to revisit and understand your work in the future."
   ]
  },
  {
   "cell_type": "markdown",
   "id": "bb0a1a4e",
   "metadata": {},
   "source": [
    "# This is not a comment but instead a section header\n",
    "\n",
    "## This is a section header\n",
    "\n",
    "### This is a section header\n",
    "\n",
    "#### more hashtags mean smaller font\n",
    "\n",
    "##### Hashtags in Markdown cells create Section Headers!\n",
    "\n",
    "###### More hashtags represent more sub sections"
   ]
  },
  {
   "cell_type": "markdown",
   "id": "9c71444a",
   "metadata": {},
   "source": [
    "# Data Analysis \n"
   ]
  },
  {
   "cell_type": "markdown",
   "id": "da16e734",
   "metadata": {},
   "source": [
    "### Python Libraries\n",
    "\n",
    "In Python, **libraries** are collections of pre-written code that provide additional functionality, such as:\n",
    "- Mathematical operations\n",
    "- Data visualization\n",
    "- File handling\n",
    "\n",
    "To use a library, you must **import** it into your script using the `import` statement.\n",
    "\n",
    "You can also **nickname** a library during import to make its functions easier to call. For example, `import numpy as np` allows you to refer to the numpy library using np, which saves time and keeps your code concise.\n"
   ]
  },
  {
   "cell_type": "code",
   "execution_count": 248,
   "id": "5af768f4",
   "metadata": {},
   "outputs": [],
   "source": [
    "import numpy as np\n",
    "#NumPy: A library for numerical computations, providing support for arrays, matrices, \n",
    "# and a wide range of mathematical functions to perform efficient computations on large datasets.\n",
    "#especially note that numpy is great when you're working with only numbers, but that's all it can do\n",
    "#we're using it today because it's great for first starting out.\n",
    "import matplotlib.pyplot as plt\n",
    "import glob\n",
    "#normally, we'd put these at the top of a script"
   ]
  },
  {
   "cell_type": "markdown",
   "id": "9e74e7b3",
   "metadata": {},
   "source": [
    "### Using a Function from a Library in Python\n",
    "\n",
    "This is how we use a function from a library in Python. The syntax is:\n",
    "**library_name** (or nickname), followed by a dot, and then the function name.\n",
    "\n",
    "Here, `np.loadtxt` is used to load data from a CSV file, where `\"np\"` is the nickname for the NumPy library."
   ]
  },
  {
   "cell_type": "code",
   "execution_count": null,
   "id": "1185f12b",
   "metadata": {},
   "outputs": [],
   "source": [
    "np.loadtxt(fname=\"inflammation-01.csv\", delimiter=\",\")"
   ]
  },
  {
   "cell_type": "markdown",
   "id": "61af6e43",
   "metadata": {},
   "source": [
    "### Storing Data in a Variable for Convenience\n",
    "\n",
    "This syntax demonstrates how to use the `np.loadtxt()` function from the NumPy library to load data from a CSV file into a NumPy array. Here's a breakdown of the components:\n",
    "\n",
    "- **`np`**: The nickname for the NumPy library, commonly used when importing it (e.g., `import numpy as np`).\n",
    "- **`loadtxt`**: A function in NumPy that loads data from a text file, such as a CSV file, into a NumPy array.\n",
    "- **`fname=\"inflammation-01.csv\"`**: Specifies the name of the file to load. In this case, it is `inflammation-01.csv`.\n",
    "- **`delimiter=\",\"`**: Specifies the character used to separate values in the file. Here, it is a comma, indicating a CSV (comma-separated values) format.\n",
    "- **`data =`**: Assigns the resulting NumPy array to the variable `data`.\n",
    "\n",
    "### What Happens:\n",
    "1. `np.loadtxt()` reads the file `inflammation-01.csv`, assuming it contains numeric data separated by commas.\n",
    "2. It converts the data into a structured NumPy array.\n",
    "3. The array is stored in the variable `data` for further analysis or manipulation.\n"
   ]
  },
  {
   "cell_type": "code",
   "execution_count": 250,
   "id": "e47e5b6e",
   "metadata": {},
   "outputs": [],
   "source": [
    "data = np.loadtxt(fname=\"inflammation-01.csv\", delimiter=\",\")"
   ]
  },
  {
   "cell_type": "markdown",
   "id": "3c3edbcc",
   "metadata": {},
   "source": [
    "View the `data` variable contents"
   ]
  },
  {
   "cell_type": "code",
   "execution_count": null,
   "id": "6e4b69cc",
   "metadata": {},
   "outputs": [],
   "source": [
    "print(data)"
   ]
  },
  {
   "cell_type": "markdown",
   "id": "81a1ac5a",
   "metadata": {},
   "source": [
    "Now let's view the variable's data type."
   ]
  },
  {
   "cell_type": "code",
   "execution_count": null,
   "id": "129b7d1a",
   "metadata": {},
   "outputs": [],
   "source": [
    "print(type(data))"
   ]
  },
  {
   "cell_type": "markdown",
   "id": "5c1844ac",
   "metadata": {},
   "source": [
    "### Attributes in NumPy\n",
    "\n",
    "In NumPy, this is what's known as an **attribute**. The syntax is similar to a function, but there are **no parentheses (`()`)** used.\n",
    "\n",
    "You can use the following attributes to quickly understand the structure and type of your data when working with NumPy arrays:\n",
    "\n",
    "- **`.dtype`**: Provides the data type of the elements in the array.\n",
    "- **`.shape`**: Returns the dimensions (shape) of the array.\n",
    "\n",
    "These attributes are useful for gaining insights into the structure and type of your data at a glance.\n"
   ]
  },
  {
   "cell_type": "markdown",
   "id": "886e3df6",
   "metadata": {},
   "source": [
    "#### Showing the Data Types in a NumPy Array\n",
    "\n",
    "To show the data types present in a NumPy array (e.g., `data`), you can use the **`.dtype`** attribute. \n",
    "\n",
    "- In this case, the data type will be **one type**, but arrays can contain multiple data types in certain scenarios (like structured arrays).  \n",
    "- **`.dtype`** helps you verify the data type of the array's elements (e.g., integers, floats, or strings), which is essential for ensuring compatibility with mathematical operations.\n"
   ]
  },
  {
   "cell_type": "code",
   "execution_count": null,
   "id": "5bca34b3",
   "metadata": {},
   "outputs": [],
   "source": [
    "print(data.dtype)"
   ]
  },
  {
   "cell_type": "markdown",
   "id": "28a4e146",
   "metadata": {},
   "source": [
    "### Showing the Number of Rows and Columns in a NumPy Array\n",
    "\n",
    "To show the number of rows and columns in a NumPy array, you can use the **`.shape`** attribute.\n",
    "\n",
    "- **`.shape`** provides the dimensions of the array, allowing you to confirm the size and structure of your dataset (e.g., rows and columns in a 2D array) before performing further analysis.\n"
   ]
  },
  {
   "cell_type": "code",
   "execution_count": null,
   "id": "b6cbd250",
   "metadata": {},
   "outputs": [],
   "source": [
    "\n",
    "print(data.shape)"
   ]
  },
  {
   "cell_type": "markdown",
   "id": "def2ba30",
   "metadata": {},
   "source": [
    "numpy index syntax is: [row(s), column(s)]\n",
    "\n",
    "The syntax `data[0,0]` accesses the element in the first row and the first column of the array.\n",
    "\n",
    "NumPy uses zero-based indexing, meaning the first row is at index 0 and the first column is at index 0."
   ]
  },
  {
   "cell_type": "code",
   "execution_count": null,
   "id": "dafc324b",
   "metadata": {},
   "outputs": [],
   "source": [
    "\n",
    "print(\"First value in data:\", data[0,0])"
   ]
  },
  {
   "cell_type": "code",
   "execution_count": null,
   "id": "a7e30ff4",
   "metadata": {},
   "outputs": [],
   "source": [
    "print(data[0:4, 0:10])"
   ]
  },
  {
   "cell_type": "markdown",
   "id": "ea73360c",
   "metadata": {},
   "source": [
    "\n",
    "\n",
    "The code `print(data[0:4, 0:10])` extracts and displays a subset (or slice) of a NumPy array, using slicing to specify the range of rows and columns to include. Here's what it represents:\n",
    "\n",
    "- **`data[0:4, 0:10]`**:\n",
    "  - Specifies a slice that includes the **first 4 rows** (0, 1, 2, 3) and the **first 10 columns** (0 to 9) of the `data` array.\n"
   ]
  },
  {
   "cell_type": "markdown",
   "id": "e76cbf8a",
   "metadata": {},
   "source": [
    "The average inflammation for the entire dataset -- all rows, all columns\n"
   ]
  },
  {
   "cell_type": "code",
   "execution_count": null,
   "id": "0d3912f5",
   "metadata": {},
   "outputs": [],
   "source": [
    "print(np.mean(data))"
   ]
  },
  {
   "cell_type": "markdown",
   "id": "72bc6dba",
   "metadata": {},
   "source": [
    "### Multi-value assignment\n",
    "\n",
    "This code calculates the maximum, minimum, and standard deviation of a dataset using NumPy. The variables `maxval`, `minval`, and `stdval` store these values. It then prints the results, labeling them as \"max inflammation,\" \"min inflammation,\" and \"standard deviation.\"\n",
    "\n",
    "- `np`: Refers to the **NumPy** library, which we abbreviated as `np` when importing.\n",
    "\n",
    "- `max`: A function in the NumPy library that computes the **maximum value** in an array or along a specified axis.\n",
    "\n",
    "- `data`: The variable we created and populated with our data.\n",
    "\n",
    "\n"
   ]
  },
  {
   "cell_type": "code",
   "execution_count": null,
   "id": "2a304251",
   "metadata": {},
   "outputs": [],
   "source": [
    "maxval, minval, stdval = np.max(data), np.min(data), np.std(data)\n",
    "\n",
    "print(\"max inflammation:\", maxval)\n",
    "print(\"min inflammation:\", minval)\n",
    "print(\"standard deviation:\", stdval)"
   ]
  },
  {
   "cell_type": "markdown",
   "id": "a3f607e3",
   "metadata": {},
   "source": [
    "Colons are shorthand for \"all of them\" -- all rows or all columns.\n"
   ]
  },
  {
   "cell_type": "code",
   "execution_count": null,
   "id": "800b3a64",
   "metadata": {},
   "outputs": [],
   "source": [
    "patient_0 = data[0, :]\n",
    "\n",
    "print(\"Maximum inflammation for Patient 0:\", np.max(patient_0))"
   ]
  },
  {
   "cell_type": "markdown",
   "id": "80fd696e",
   "metadata": {},
   "source": [
    "Tthis shows us the averages down each column `axis=0`, aka the average inflammations per day of the trial.\n"
   ]
  },
  {
   "cell_type": "code",
   "execution_count": null,
   "id": "2cdf02aa",
   "metadata": {},
   "outputs": [],
   "source": [
    "print(np.mean(data, axis=0))"
   ]
  },
  {
   "cell_type": "markdown",
   "id": "256107c0",
   "metadata": {},
   "source": [
    "This shows us the averages down across each row `axis=1`, aka the average inflammations per patient in the trial.\n"
   ]
  },
  {
   "cell_type": "code",
   "execution_count": null,
   "id": "db2cd9b9",
   "metadata": {},
   "outputs": [],
   "source": [
    "print(np.mean(data, axis=1))"
   ]
  },
  {
   "cell_type": "markdown",
   "id": "7b12afa5",
   "metadata": {},
   "source": [
    "### Create a heatmap\n",
    "\n",
    "This code uses Matplotlib to visualize the `data` array as an image.\n",
    "\n",
    "- `plt.imshow(data)`: Displays the `data` as a 2D image, where values in `data` are represented by colors. By default, a colormap is applied to map data values to colors.\n",
    "- `plt.show()`: Renders and displays the image in a graphical window."
   ]
  },
  {
   "cell_type": "code",
   "execution_count": null,
   "id": "7c1b2527",
   "metadata": {},
   "outputs": [],
   "source": [
    "image = plt.imshow(data)\n",
    "plt.show()"
   ]
  },
  {
   "cell_type": "markdown",
   "id": "3edcfe88",
   "metadata": {},
   "source": [
    "Storing our average inflammations each day in a variable and then calling that variable in a matplotlib plot and show set of functions.\n"
   ]
  },
  {
   "cell_type": "code",
   "execution_count": null,
   "id": "9ca77583",
   "metadata": {},
   "outputs": [],
   "source": [
    "ave_inflammation = np.mean(data, axis=0)\n",
    "plt.plot(ave_inflammation)\n",
    "plt.show()"
   ]
  },
  {
   "cell_type": "markdown",
   "id": "390a3c8b",
   "metadata": {},
   "source": [
    "Let's confirm we have all of our files.  This code lists and sorts all filenames in the current directory that match the pattern `\"inflammation*.csv\"`.\n",
    "\n",
    "- `glob.glob(\"inflammation*.csv\")`:\n",
    "  - Searches the current directory for all files with names starting with `\"inflammation\"` and ending with `\".csv\"`.\n",
    "  - Returns a list of matching filenames.\n",
    "\n",
    "- `sorted(...)`:\n",
    "  - Sorts the list of filenames in ascending order (alphabetical by default).\n",
    "\n",
    "- `print(...)`:\n",
    "  - Outputs the sorted list of filenames.\n"
   ]
  },
  {
   "cell_type": "code",
   "execution_count": null,
   "id": "6dd75df5",
   "metadata": {},
   "outputs": [],
   "source": [
    "print(sorted(glob.glob(\"inflammation*.csv\")))"
   ]
  },
  {
   "cell_type": "markdown",
   "id": "8827d15d",
   "metadata": {},
   "source": [
    "Now let's processes our inflammation data files, calculate the average inflammation per day, and plot the results for each file."
   ]
  },
  {
   "cell_type": "code",
   "execution_count": null,
   "id": "99b0ceb9",
   "metadata": {},
   "outputs": [],
   "source": [
    "filenames = sorted(glob.glob(\"inflammation*.csv\"))\n",
    "\n",
    "for filename in filenames:\n",
    "    print(filename)\n",
    "    data = np.loadtxt(fname=filename, delimiter=\",\")\n",
    "    \n",
    "    ave_inflammation = np.mean(data, axis=0)\n",
    "    plt.plot(ave_inflammation)\n",
    "    \n",
    "    plt.title(\"Average inflammation flare-ups per day\")\n",
    "    plt.xlabel(\"Day\")\n",
    "    plt.ylabel(\"Average\")\n",
    "    \n",
    "    plt.show()"
   ]
  },
  {
   "cell_type": "markdown",
   "id": "3e2bbd1f",
   "metadata": {},
   "source": [
    "### Let's review the code\n",
    "1. **`filenames = sorted(glob.glob(\"inflammation*.csv\"))`**:\n",
    "   - Retrieves all filenames starting with `\"inflammation\"` and ending with `\".csv\"` in the current directory.\n",
    "   - Sorts the list of filenames alphabetically.\n",
    "\n",
    "2. **`for filename in filenames:`**:\n",
    "   - Loops through each file in the sorted list.\n",
    "\n",
    "3. **`print(filename)`**:\n",
    "   - Prints the current filename being processed.\n",
    "\n",
    "4. **`data = np.loadtxt(fname=filename, delimiter=\",\")`**:\n",
    "   - Loads the data from the current CSV file as a NumPy array.\n",
    "   - Assumes the file is delimited by commas.\n",
    "\n",
    "5. **`ave_inflammation = np.mean(data, axis=0)`**:\n",
    "   - Calculates the average inflammation per day (column-wise) from the data array.\n",
    "\n",
    "6. **`plt.plot(ave_inflammation)`**:\n",
    "   - Creates a line plot of the average inflammation per day.\n",
    "\n",
    "7. **`plt.title(\"Average inflammation flare-ups per day\")`**:\n",
    "   - Sets the title of the plot.\n",
    "\n",
    "8. **`plt.xlabel(\"Day\")`**:\n",
    "   - Labels the x-axis as `\"Day\"`.\n",
    "\n",
    "9. **`plt.ylabel(\"Average\")`**:\n",
    "   - Labels the y-axis as `\"Average\"`.\n",
    "\n",
    "10. **`plt.show()`**:\n",
    "    - Displays the plot for the current file."
   ]
  },
  {
   "cell_type": "markdown",
   "id": "a2a025c6",
   "metadata": {},
   "source": [
    "We can update our code to include a conditional check (`if np.mean(data) > 5.0`) to decide whether to plot the inflammation data or not, based on the average inflammation across the entire file. Here's how it differs:\n",
    "\n",
    "1. **Conditional Plotting**:\n",
    "   - **Original Code**: Plots the average inflammation for every file without any conditions.\n",
    "   - **Modified Code**: Only plots the average inflammation if the overall average inflammation (`np.mean(data)`) is greater than 5.0.\n",
    "\n",
    "2. **Additional Information**:\n",
    "   - If the average inflammation is greater than 5.0:\n",
    "     - Prints the filename and its overall average inflammation.\n",
    "     - Creates and shows the plot for average inflammation per day.\n",
    "   - If the average inflammation is less than or equal to 5.0:\n",
    "     - Prints the filename and its overall average inflammation.\n",
    "     - Prints a message indicating that no figure is shown due to low average inflammation levels.\n",
    "\n",
    "3. **Output**:\n",
    "   - **Original Code**: Always produces a plot for each file.\n",
    "   - **Modified Code**: Skips plotting for files with low overall average inflammation (≤ 5) and provides an explanation.\n",
    "\n",
    "\n",
    "This modification is useful for filtering out files with insignificant data (low inflammation levels) and focusing only on files with meaningful data for visualization.\n"
   ]
  },
  {
   "cell_type": "code",
   "execution_count": null,
   "id": "ec2af987",
   "metadata": {},
   "outputs": [],
   "source": [
    "filenames = sorted(glob.glob(\"inflammation*.csv\"))\n",
    "\n",
    "for filename in filenames:    \n",
    "    data = np.loadtxt(fname=filename, delimiter=\",\")\n",
    "    if np.mean(data) > 5.0:\n",
    "        print(filename)\n",
    "        print(\"Average inflammation for this file:\", np.mean(data))\n",
    "        ave_inflammation = np.mean(data, axis=0)\n",
    "        plt.plot(ave_inflammation)\n",
    "        \n",
    "        plt.title(\"Average inflammation flare-ups per day\")\n",
    "        plt.xlabel(\"Day\")\n",
    "        plt.ylabel(\"Average\")\n",
    "        \n",
    "        plt.show()\n",
    "    else:\n",
    "        print(filename)\n",
    "        print(\"Average inflammation for this file:\", np.mean(data))\n",
    "        print(\"Figure not shown due to low average (< 5) inflammation levels in the sample.\")\n",
    "        print(\" \")"
   ]
  },
  {
   "cell_type": "markdown",
   "id": "0e30341b",
   "metadata": {},
   "source": [
    "# Bonus section\n",
    "#### If time, though I doubt there will be time."
   ]
  },
  {
   "cell_type": "code",
   "execution_count": 278,
   "id": "445b6a39",
   "metadata": {},
   "outputs": [],
   "source": [
    "def create_figures_by_day(filenames, figure_type, ylabel):\n",
    "    for filename in filenames:\n",
    "        print(filename)\n",
    "        data = np.loadtxt(fname=filename, delimiter=\",\")\n",
    "        figure = figure_type(data, axis=0)\n",
    "        plt.plot(figure)\n",
    "        \n",
    "        plt.xlabel(\"Day\")\n",
    "        plt.ylabel(ylabel)\n",
    "        \n",
    "        plt.show()"
   ]
  },
  {
   "cell_type": "code",
   "execution_count": null,
   "id": "72e61ac3",
   "metadata": {},
   "outputs": [],
   "source": [
    "create_figures_by_day(filenames=filenames, figure_type=np.std, ylabel=\"Standard Dev.\")"
   ]
  },
  {
   "cell_type": "code",
   "execution_count": null,
   "id": "dacc0407",
   "metadata": {},
   "outputs": [],
   "source": []
  }
 ],
 "metadata": {
  "kernelspec": {
   "display_name": "3.10.4",
   "language": "python",
   "name": "python3"
  },
  "language_info": {
   "codemirror_mode": {
    "name": "ipython",
    "version": 3
   },
   "file_extension": ".py",
   "mimetype": "text/x-python",
   "name": "python",
   "nbconvert_exporter": "python",
   "pygments_lexer": "ipython3",
   "version": "3.10.4"
  }
 },
 "nbformat": 4,
 "nbformat_minor": 5
}
